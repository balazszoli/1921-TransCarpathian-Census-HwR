{
 "cells": [
  {
   "cell_type": "code",
   "execution_count": 2,
   "metadata": {
    "pycharm": {
     "is_executing": false
    }
   },
   "outputs": [],
   "source": [
    "import cv2\n",
    "from table_recognizer.surname_table_recognizer import SurnameTableRecognizer, HOUSE_NUMBER_COLUMN\n",
    "from utils.image_utils import write_cells\n",
    "\n",
    "recog = SurnameTableRecognizer()\n",
    "table = recog.recognize('../images/surname_tables/test2.png')\n",
    "write_cells(table.img, table.get_column_rows(HOUSE_NUMBER_COLUMN))\n"
   ]
  },
  {
   "cell_type": "code",
   "execution_count": null,
   "metadata": {},
   "outputs": [],
   "source": []
  }
 ],
 "metadata": {
  "kernelspec": {
   "display_name": "PyCharm (1921-TransCarpathian-Census-HwR)",
   "language": "python",
   "name": "pycharm-24fb24bf"
  },
  "language_info": {
   "codemirror_mode": {
    "name": "ipython",
    "version": 3
   },
   "file_extension": ".py",
   "mimetype": "text/x-python",
   "name": "python",
   "nbconvert_exporter": "python",
   "pygments_lexer": "ipython3",
   "version": "3.6.7"
  },
  "pycharm": {
   "stem_cell": {
    "cell_type": "raw",
    "metadata": {
     "collapsed": false
    },
    "source": []
   }
  }
 },
 "nbformat": 4,
 "nbformat_minor": 4
}
